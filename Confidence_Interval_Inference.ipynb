{
  "nbformat": 4,
  "nbformat_minor": 0,
  "metadata": {
    "colab": {
      "name": "Confidence Interval Inference",
      "provenance": [],
      "authorship_tag": "ABX9TyMY51nSg3tMpu8RAOHKs6py",
      "include_colab_link": true
    },
    "kernelspec": {
      "name": "python3",
      "display_name": "Python 3"
    },
    "language_info": {
      "name": "python"
    },
    "accelerator": "GPU"
  },
  "cells": [
    {
      "cell_type": "markdown",
      "metadata": {
        "id": "view-in-github",
        "colab_type": "text"
      },
      "source": [
        "<a href=\"https://colab.research.google.com/github/valenottaviano/Confidence-Interval-Inference/blob/main/Confidence_Interval_Inference.ipynb\" target=\"_parent\"><img src=\"https://colab.research.google.com/assets/colab-badge.svg\" alt=\"Open In Colab\"/></a>"
      ]
    },
    {
      "cell_type": "code",
      "metadata": {
        "id": "OXqnBbk3ywz0"
      },
      "source": [
        "import pandas as pd\n",
        "import numpy as np\n",
        "import tensorflow as tf\n",
        "import matplotlib.pyplot as plt\n",
        "import seaborn as sns\n",
        "tf.autograph.set_verbosity(0)"
      ],
      "execution_count": 3,
      "outputs": []
    },
    {
      "cell_type": "code",
      "metadata": {
        "id": "36yiUEJ6zFHo"
      },
      "source": [
        "df = pd.read_csv('https://raw.githubusercontent.com/jbrownlee/Datasets/master/shampoo.csv', index_col='Month')\n",
        "series = df['Sales'].values\n",
        "series.shape = (series.shape[0],1)"
      ],
      "execution_count": 4,
      "outputs": []
    },
    {
      "cell_type": "code",
      "metadata": {
        "id": "UPYqE7F9zlm9"
      },
      "source": [
        "from numpy import array\n",
        "\n",
        "def split_dataset(data):\n",
        "    # split into standard weeks\n",
        "    train, test = data[:-12], data[-12:]\n",
        "    # restructure into windows of weekly data\n",
        "    train = np.array(np.split(train, len(train)/3))\n",
        "    test = np.array(np.split(test, len(test)/3))\n",
        "    return train, test\n",
        "\n",
        "def to_supervised(train, n_input, n_out):\n",
        "    # flatten data\n",
        "    data = train.reshape((train.shape[0]*train.shape[1], train.shape[2]))\n",
        "    X, y = list(), list()\n",
        "    in_start = 0\n",
        "    # step over the entire history one time step at a time\n",
        "    for _ in range(len(data)):\n",
        "        # define the end of the input sequence\n",
        "        in_end = in_start + n_input\n",
        "        out_end = in_end + n_out\n",
        "        # ensure we have enough data for this instance\n",
        "        if out_end < len(data):\n",
        "            x_input = data[in_start:in_end, 0]\n",
        "            x_input = x_input.reshape((len(x_input), 1))\n",
        "            X.append(x_input)\n",
        "            y.append(data[in_end:out_end, 0])\n",
        "        # move along one time step\n",
        "        in_start += 1\n",
        "    return array(X), array(y)"
      ],
      "execution_count": 5,
      "outputs": []
    },
    {
      "cell_type": "code",
      "metadata": {
        "colab": {
          "base_uri": "https://localhost:8080/"
        },
        "id": "Fx25QyyH0fTc",
        "outputId": "2cfae434-7849-4192-c0fa-ad0a9c35b9df"
      },
      "source": [
        "train, test = split_dataset(series)\n",
        "output_shape = 3\n",
        "input_shape = 6\n",
        "\n",
        "train_X, train_y = to_supervised(train, input_shape, output_shape)\n",
        "test_X, test_y = to_supervised(test, input_shape, output_shape)\n",
        "\n",
        "\n",
        "for i in range(train_X.shape[0]):\n",
        "  print(train_X[i].flatten(), train_y[i])"
      ],
      "execution_count": 10,
      "outputs": [
        {
          "output_type": "stream",
          "name": "stdout",
          "text": [
            "[266.  145.9 183.1 119.3 180.3 168.5] [231.8 224.5 192.8]\n",
            "[145.9 183.1 119.3 180.3 168.5 231.8] [224.5 192.8 122.9]\n",
            "[183.1 119.3 180.3 168.5 231.8 224.5] [192.8 122.9 336.5]\n",
            "[119.3 180.3 168.5 231.8 224.5 192.8] [122.9 336.5 185.9]\n",
            "[180.3 168.5 231.8 224.5 192.8 122.9] [336.5 185.9 194.3]\n",
            "[168.5 231.8 224.5 192.8 122.9 336.5] [185.9 194.3 149.5]\n",
            "[231.8 224.5 192.8 122.9 336.5 185.9] [194.3 149.5 210.1]\n",
            "[224.5 192.8 122.9 336.5 185.9 194.3] [149.5 210.1 273.3]\n",
            "[192.8 122.9 336.5 185.9 194.3 149.5] [210.1 273.3 191.4]\n",
            "[122.9 336.5 185.9 194.3 149.5 210.1] [273.3 191.4 287. ]\n",
            "[336.5 185.9 194.3 149.5 210.1 273.3] [191.4 287.  226. ]\n",
            "[185.9 194.3 149.5 210.1 273.3 191.4] [287.  226.  303.6]\n",
            "[194.3 149.5 210.1 273.3 191.4 287. ] [226.  303.6 289.9]\n",
            "[149.5 210.1 273.3 191.4 287.  226. ] [303.6 289.9 421.6]\n",
            "[210.1 273.3 191.4 287.  226.  303.6] [289.9 421.6 264.5]\n"
          ]
        }
      ]
    },
    {
      "cell_type": "code",
      "metadata": {
        "colab": {
          "base_uri": "https://localhost:8080/"
        },
        "id": "q-PeB1oZ1QgS",
        "outputId": "7b96256d-9cb0-4df6-919a-7248d1f8c7d2"
      },
      "source": [
        "from tensorflow.keras.models import Sequential\n",
        "from keras.layers import Dense, Dropout , LSTM , Bidirectional, Flatten\n",
        "\n",
        "# define parameters\n",
        "verbose, epochs, batch_size = 1, 100, 3\n",
        "n_timesteps, n_features, n_outputs = train_X.shape[1], train_X.shape[2], train_y.shape[1]\n",
        "\n",
        "\n",
        "# define model\n",
        "model = Sequential()\n",
        "model.add(Bidirectional(LSTM(200, activation='relu', input_shape=(n_timesteps, n_features), return_sequences=True)))\n",
        "model.add(Dense(200, activation='relu'))\n",
        "model.add(Bidirectional(LSTM(200, activation='relu', input_shape=(n_timesteps, n_features))))\n",
        "model.add(Dropout(0.5))\n",
        "model.add(Dense(n_outputs))\n",
        "model.compile(loss='mse', optimizer='adam')\n",
        "\n",
        "# fit network\n",
        "history = model.fit(train_X, train_y, epochs=epochs, batch_size=batch_size, verbose=verbose, validation_split=0.2)\n"
      ],
      "execution_count": 12,
      "outputs": [
        {
          "output_type": "stream",
          "name": "stdout",
          "text": [
            "4/4 [==============================] - 0s 45ms/step - loss: 3540.0098 - val_loss: 10820.5537\n",
            "Epoch 83/100\n",
            "4/4 [==============================] - 0s 47ms/step - loss: 3807.1921 - val_loss: 15567.5088\n",
            "Epoch 84/100\n",
            "4/4 [==============================] - 0s 42ms/step - loss: 3071.7859 - val_loss: 14209.1328\n",
            "Epoch 85/100\n",
            "4/4 [==============================] - 0s 44ms/step - loss: 3111.6309 - val_loss: 8888.0195\n",
            "Epoch 86/100\n",
            "4/4 [==============================] - 0s 46ms/step - loss: 2885.0840 - val_loss: 6544.0122\n",
            "Epoch 87/100\n",
            "4/4 [==============================] - 0s 46ms/step - loss: 2959.0898 - val_loss: 9295.7197\n",
            "Epoch 88/100\n",
            "4/4 [==============================] - 0s 46ms/step - loss: 4431.8862 - val_loss: 6386.0586\n",
            "Epoch 89/100\n",
            "4/4 [==============================] - 0s 44ms/step - loss: 2877.2383 - val_loss: 6235.2456\n",
            "Epoch 90/100\n",
            "4/4 [==============================] - 0s 44ms/step - loss: 4282.1733 - val_loss: 12585.9482\n",
            "Epoch 91/100\n",
            "4/4 [==============================] - 0s 43ms/step - loss: 3832.0198 - val_loss: 9660.7217\n",
            "Epoch 92/100\n",
            "4/4 [==============================] - 0s 44ms/step - loss: 3533.0027 - val_loss: 8278.5645\n",
            "Epoch 93/100\n",
            "4/4 [==============================] - 0s 44ms/step - loss: 3075.0593 - val_loss: 7954.2212\n",
            "Epoch 94/100\n",
            "4/4 [==============================] - 0s 46ms/step - loss: 3285.0117 - val_loss: 10521.8008\n",
            "Epoch 95/100\n",
            "4/4 [==============================] - 0s 48ms/step - loss: 2689.8269 - val_loss: 8977.3711\n",
            "Epoch 96/100\n",
            "4/4 [==============================] - 0s 45ms/step - loss: 2344.1501 - val_loss: 9966.2979\n",
            "Epoch 97/100\n",
            "4/4 [==============================] - 0s 51ms/step - loss: 2027.9630 - val_loss: 12346.0010\n",
            "Epoch 98/100\n",
            "4/4 [==============================] - 0s 46ms/step - loss: 2918.5793 - val_loss: 12174.7959\n",
            "Epoch 99/100\n",
            "4/4 [==============================] - 0s 43ms/step - loss: 1994.5836 - val_loss: 11187.9854\n",
            "Epoch 100/100\n",
            "4/4 [==============================] - 0s 45ms/step - loss: 2088.3552 - val_loss: 10233.3213\n"
          ]
        }
      ]
    },
    {
      "cell_type": "code",
      "metadata": {
        "colab": {
          "base_uri": "https://localhost:8080/",
          "height": 265
        },
        "id": "9jI5FeiT3A_2",
        "outputId": "13e2c7f3-8f93-40f7-84f4-47c7df0f56e5"
      },
      "source": [
        "plt.figure()\n",
        "plt.plot(history.history['val_loss'])\n",
        "plt.plot(history.history['loss'])\n",
        "plt.show()"
      ],
      "execution_count": 14,
      "outputs": [
        {
          "output_type": "display_data",
          "data": {
            "image/png": "[encoded data removed]",
            "text/plain": [
              "<Figure size 432x288 with 1 Axes>"
            ]
          },
          "metadata": {
            "needs_background": "light"
          }
        }
      ]
    },
    {
      "cell_type": "code",
      "metadata": {
        "id": "RQms870t_6mZ"
      },
      "source": [
        "from sklearn.metrics import mean_absolute_error\n",
        "\n",
        "def fit_model(X_train, y_train):\n",
        "\t# define parameters\n",
        "  verbose, epochs, batch_size = 0, 50, 3\n",
        "  n_timesteps, n_features, n_outputs = train_X.shape[1], train_X.shape[2], train_y.shape[1]\n",
        "\n",
        "\n",
        "  # define model\n",
        "  model = Sequential()\n",
        "  model.add(Bidirectional(LSTM(200, activation='relu', input_shape=(n_timesteps, n_features), return_sequences=True)))\n",
        "  model.add(Dense(200, activation='relu'))\n",
        "  model.add(Bidirectional(LSTM(200, activation='relu', input_shape=(n_timesteps, n_features))))\n",
        "  model.add(Dropout(0.4))\n",
        "  model.add(Dense(n_outputs))\n",
        "  model.compile(loss='mse', optimizer='adam')\n",
        "\n",
        "  # fit network\n",
        "  model.fit(train_X, train_y, epochs=epochs, batch_size=batch_size, verbose=verbose, validation_split=0.2)\n",
        "  return model\n",
        "\n",
        "# fit an ensemble of models\n",
        "def fit_ensemble(n_members, X_train, X_test, y_train, y_test):\n",
        "\tensemble = list()\n",
        "\tfor i in range(n_members):\n",
        "\t\t# define and fit the model on the training set\n",
        "\t\tmodel = fit_model(X_train, y_train)\n",
        "\t\t# evaluate model on the test set\n",
        "\t\tyhat = model.predict(X_test)\n",
        "\t\tmae = mean_absolute_error(y_test, yhat)\n",
        "\t\t# store the model\n",
        "\t\tensemble.append(model)\n",
        "\treturn ensemble\n",
        "\n",
        "n_members = 10\n",
        "ensemble = fit_ensemble(n_members, train_X, test_X, train_y, test_y)"
      ],
      "execution_count": 25,
      "outputs": []
    },
    {
      "cell_type": "code",
      "metadata": {
        "id": "EaCRGJAmDhnU"
      },
      "source": [
        "# make predictions with the ensemble and calculate a prediction interval\n",
        "def predict_with_pi(ensemble, X):\n",
        "\t# make predictions\n",
        "\tyhat = [model.predict(X, verbose=0) for model in ensemble]\n",
        "\tyhat = np.asarray(yhat)\n",
        "\t# calculate 95% gaussian prediction interval\n",
        "\tinterval = 1.96 * yhat.std()\n",
        "\tlower, upper = yhat.mean() - interval, yhat.mean() + interval\n",
        "\treturn lower, yhat.mean(), upper\n"
      ],
      "execution_count": 26,
      "outputs": []
    },
    {
      "cell_type": "code",
      "metadata": {
        "id": "C1sXM64YFkFq"
      },
      "source": [
        "y_hats = []\n",
        "for model in ensemble:\n",
        "  pred = model.predict(test_X[0].reshape(1,input_shape,1))\n",
        "  y_hats.append(pred)\n",
        "\n",
        "predictions = []\n",
        "means, stds, lowers, uppers = [], [], [], []\n",
        "\n",
        "for i in range(output_shape):\n",
        "  mean = np.asarray(y_hats)[:,0,i].mean()\n",
        "  std = np.asarray(y_hats)[:,0,i].std()\n",
        "  interval = 1.96 * std\n",
        "\n",
        "  predictions.append((\n",
        "      mean,\n",
        "      std,\n",
        "      mean + interval,\n",
        "      mean - interval))\n"
      ],
      "execution_count": 27,
      "outputs": []
    },
    {
      "cell_type": "code",
      "metadata": {
        "id": "XeGwpoSYGJy2"
      },
      "source": [
        "pred_df = pd.DataFrame(data=predictions, columns=['mean', 'std', 'upper', 'lower'])"
      ],
      "execution_count": 28,
      "outputs": []
    },
    {
      "cell_type": "code",
      "metadata": {
        "id": "JroUrH8NK7bA"
      },
      "source": [
        "pred_df['actual'] = test_y[0]"
      ],
      "execution_count": 31,
      "outputs": []
    },
    {
      "cell_type": "code",
      "metadata": {
        "colab": {
          "base_uri": "https://localhost:8080/",
          "height": 143
        },
        "id": "4ggFTgr6LqCX",
        "outputId": "bf30645f-45a3-4672-831a-d58951526961"
      },
      "source": [
        "pred_df"
      ],
      "execution_count": 32,
      "outputs": [
        {
          "output_type": "execute_result",
          "data": {
            "text/html": [
              "<div>\n",
              "<style scoped>\n",
              "    .dataframe tbody tr th:only-of-type {\n",
              "        vertical-align: middle;\n",
              "    }\n",
              "\n",
              "    .dataframe tbody tr th {\n",
              "        vertical-align: top;\n",
              "    }\n",
              "\n",
              "    .dataframe thead th {\n",
              "        text-align: right;\n",
              "    }\n",
              "</style>\n",
              "<table border=\"1\" class=\"dataframe\">\n",
              "  <thead>\n",
              "    <tr style=\"text-align: right;\">\n",
              "      <th></th>\n",
              "      <th>mean</th>\n",
              "      <th>std</th>\n",
              "      <th>upper</th>\n",
              "      <th>lower</th>\n",
              "      <th>actual</th>\n",
              "    </tr>\n",
              "  </thead>\n",
              "  <tbody>\n",
              "    <tr>\n",
              "      <th>0</th>\n",
              "      <td>478.112976</td>\n",
              "      <td>60.766045</td>\n",
              "      <td>597.214424</td>\n",
              "      <td>359.011529</td>\n",
              "      <td>575.5</td>\n",
              "    </tr>\n",
              "    <tr>\n",
              "      <th>1</th>\n",
              "      <td>456.600586</td>\n",
              "      <td>49.900589</td>\n",
              "      <td>554.405740</td>\n",
              "      <td>358.795432</td>\n",
              "      <td>407.6</td>\n",
              "    </tr>\n",
              "    <tr>\n",
              "      <th>2</th>\n",
              "      <td>495.069031</td>\n",
              "      <td>27.743580</td>\n",
              "      <td>549.446447</td>\n",
              "      <td>440.691614</td>\n",
              "      <td>682.0</td>\n",
              "    </tr>\n",
              "  </tbody>\n",
              "</table>\n",
              "</div>"
            ],
            "text/plain": [
              "         mean        std       upper       lower  actual\n",
              "0  478.112976  60.766045  597.214424  359.011529   575.5\n",
              "1  456.600586  49.900589  554.405740  358.795432   407.6\n",
              "2  495.069031  27.743580  549.446447  440.691614   682.0"
            ]
          },
          "metadata": {},
          "execution_count": 32
        }
      ]
    },
    {
      "cell_type": "code",
      "metadata": {
        "colab": {
          "base_uri": "https://localhost:8080/",
          "height": 282
        },
        "id": "8IjRCBRPN_0x",
        "outputId": "62ec4ef5-8974-416c-8ecd-0a0d702379f2"
      },
      "source": [
        "# plt.fill_between(pred_df['mean'], pred_df['lower'], pred_df['upper'])\n",
        "plt.plot(pred_df['mean'])\n",
        "plt.plot(pred_df['lower'])\n",
        "plt.plot(pred_df['upper'])\n",
        "plt.plot(pred_df['actual'])\n"
      ],
      "execution_count": 37,
      "outputs": [
        {
          "output_type": "execute_result",
          "data": {
            "text/plain": [
              "[<matplotlib.lines.Line2D at 0x7f408f46f3d0>]"
            ]
          },
          "metadata": {},
          "execution_count": 37
        },
        {
          "output_type": "display_data",
          "data": {
            "image/png": "[encoded data removed]",
            "text/plain": [
              "<Figure size 432x288 with 1 Axes>"
            ]
          },
          "metadata": {
            "needs_background": "light"
          }
        }
      ]
    }
  ]
}